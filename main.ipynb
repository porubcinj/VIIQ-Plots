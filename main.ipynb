{
 "cells": [
  {
   "cell_type": "code",
   "execution_count": 1,
   "metadata": {},
   "outputs": [],
   "source": [
    "from modules.create_plots import generate_plots\n",
    "from modules.irisRecognition import irisRecognition\n",
    "from torchvision.transforms import v2 as transforms\n",
    "from torchvision.io import decode_image, ImageReadMode\n",
    "from tqdm.notebook import tqdm\n",
    "import itertools\n",
    "import os\n",
    "import numpy as np\n",
    "import pandas as pd\n",
    "import shutil\n",
    "import torch"
   ]
  },
  {
   "cell_type": "code",
   "execution_count": 2,
   "metadata": {},
   "outputs": [],
   "source": [
    "BATCH_SIZE = 128\n",
    "scores_csv = \"scores.csv\""
   ]
  },
  {
   "cell_type": "code",
   "execution_count": 3,
   "metadata": {},
   "outputs": [],
   "source": [
    "def save_embeddings(irisRec: irisRecognition, embeddings_dir: str):\n",
    "    enroll_files = [os.path.join(\"data/enroll_im_polar\", f) for f in os.listdir(\"data/enroll_im_polar\")]\n",
    "    search_files = [os.path.join(\"data/search_im_polar\", f) for f in os.listdir(\"data/search_im_polar\")]\n",
    "\n",
    "    d = {\n",
    "        \"enroll\": enroll_files,\n",
    "        \"search\": search_files,\n",
    "    }\n",
    "\n",
    "    for t, image_files in d.items():\n",
    "        for i in range(0, len(image_files), BATCH_SIZE):\n",
    "            batch_images = image_files[i:i+BATCH_SIZE]\n",
    "            image_tensors = load_image_tensors(batch_images, irisRec.device)\n",
    "            embeddings = irisRec.extractVectors(image_tensors)\n",
    "\n",
    "            for img_path, embedding in zip(batch_images, embeddings):\n",
    "                base_name = os.path.splitext(os.path.basename(img_path))[0]\n",
    "                embedding_path = os.path.join(embeddings_dir, f\"{t}_{base_name}.pt\")\n",
    "                torch.save(embedding, embedding_path)\n",
    "\n",
    "def ppm_to_embedding(filename: str):\n",
    "    return os.path.join(\"embeddings\", filename.replace('/', '_').replace('.ppm', '.pt'))\n",
    "\n",
    "def load_image_tensors(filenames, device):\n",
    "    transform = transforms.Compose((\n",
    "        transforms.ToDtype(torch.float, scale=True),\n",
    "        transforms.Normalize(mean=[0.5], std=[0.5]),\n",
    "        transforms.Grayscale(3),\n",
    "    ))\n",
    "    images = [transform(decode_image(filename, mode=ImageReadMode.GRAY)) for filename in filenames]\n",
    "    images_tensor = torch.stack(images).to(device=device)\n",
    "    return images_tensor"
   ]
  },
  {
   "cell_type": "code",
   "execution_count": 4,
   "metadata": {},
   "outputs": [
    {
     "name": "stdout",
     "output_type": "stream",
     "text": [
      "ResNet100_noise_156000.pt\n"
     ]
    },
    {
     "data": {
      "application/vnd.jupyter.widget-view+json": {
       "model_id": "fa1746941b09444e8619198f402ddf4c",
       "version_major": 2,
       "version_minor": 0
      },
      "text/plain": [
       "0it [00:00, ?it/s]"
      ]
     },
     "metadata": {},
     "output_type": "display_data"
    },
    {
     "name": "stdout",
     "output_type": "stream",
     "text": [
      "ResNet200_noise_112000.pt\n"
     ]
    },
    {
     "data": {
      "application/vnd.jupyter.widget-view+json": {
       "model_id": "652a1f08be1f44f096776ba8c1472f00",
       "version_major": 2,
       "version_minor": 0
      },
      "text/plain": [
       "0it [00:00, ?it/s]"
      ]
     },
     "metadata": {},
     "output_type": "display_data"
    },
    {
     "name": "stdout",
     "output_type": "stream",
     "text": [
      "ConvNeXt_Tiny_222000.pt\n"
     ]
    },
    {
     "data": {
      "application/vnd.jupyter.widget-view+json": {
       "model_id": "d20026f600e247539f5e0b5a70debe0e",
       "version_major": 2,
       "version_minor": 0
      },
      "text/plain": [
       "0it [00:00, ?it/s]"
      ]
     },
     "metadata": {},
     "output_type": "display_data"
    },
    {
     "name": "stdout",
     "output_type": "stream",
     "text": [
      "ResNet100_154000.pt\n"
     ]
    },
    {
     "data": {
      "application/vnd.jupyter.widget-view+json": {
       "model_id": "d9cc32dfea074f698a2c79032e26c2cb",
       "version_major": 2,
       "version_minor": 0
      },
      "text/plain": [
       "0it [00:00, ?it/s]"
      ]
     },
     "metadata": {},
     "output_type": "display_data"
    }
   ],
   "source": [
    "device = torch.device(\"mps\")\n",
    "os.makedirs(\"embeddings\", exist_ok=True)\n",
    "for model in os.listdir(\"models\"):\n",
    "    model_name = os.path.splitext(model)[0]\n",
    "    df = pd.read_csv(scores_csv)\n",
    "    if not model.endswith(\".pt\") or f\"{model_name}_score\" in df.columns:\n",
    "        continue\n",
    "    print(model)\n",
    "    irisRec = irisRecognition(model, dropout=0.0, fp16=True, num_features=512)\n",
    "\n",
    "    shutil.rmtree(\"embeddings\", ignore_errors=True)\n",
    "    os.makedirs(\"embeddings\")\n",
    "    save_embeddings(irisRec, \"embeddings\")\n",
    "\n",
    "    df[f\"{model_name}_score\"] = np.nan\n",
    "\n",
    "    for pairs in tqdm(itertools.batched(df[[\"Enroll\", \"Search\"]].itertuples(index=True, name=None), BATCH_SIZE)):\n",
    "        filenames = itertools.chain(*(map(ppm_to_embedding, pair[1:]) for pair in pairs))\n",
    "        embeddings = torch.stack([torch.load(fn) for fn in filenames]).to(device)\n",
    "        scores = irisRec.matchVectorsArc(embeddings[0::2], embeddings[1::2])\n",
    "        df.loc[[pair[0] for pair in pairs], f\"{model_name}_score\"] = scores.cpu().numpy()\n",
    "        df.to_csv(scores_csv, index=False)"
   ]
  },
  {
   "cell_type": "code",
   "execution_count": 5,
   "metadata": {},
   "outputs": [
    {
     "name": "stderr",
     "output_type": "stream",
     "text": [
      "Loading scores: 100%|██████████| 83680/83680 [00:01<00:00, 60531.98it/s]\n",
      "Finding CMC: 100%|██████████| 83680/83680 [31:11<00:00, 44.72it/s]    \n",
      "Finding CMC: 100%|██████████| 83680/83680 [25:11<00:00, 55.35it/s]\n",
      "Finding CMC: 100%|██████████| 83680/83680 [27:18<00:00, 51.07it/s]   \n",
      "Finding CMC: 100%|██████████| 83680/83680 [31:00<00:00, 44.99it/s]   \n",
      "Finding CMC: 100%|██████████| 83680/83680 [30:36<00:00, 45.56it/s]    \n"
     ]
    },
    {
     "data": {
      "image/png": "[encoded data removed]",
      "text/plain": [
       "<Figure size 640x480 with 1 Axes>"
      ]
     },
     "metadata": {},
     "output_type": "display_data"
    }
   ],
   "source": [
    "# Generate ROC and CMC plots\n",
    "generate_plots(scores_csv=scores_csv, cmc_rank=10)"
   ]
  }
 ],
 "metadata": {
  "kernelspec": {
   "display_name": ".venv",
   "language": "python",
   "name": "python3"
  },
  "language_info": {
   "codemirror_mode": {
    "name": "ipython",
    "version": 3
   },
   "file_extension": ".py",
   "mimetype": "text/x-python",
   "name": "python",
   "nbconvert_exporter": "python",
   "pygments_lexer": "ipython3",
   "version": "3.13.2"
  }
 },
 "nbformat": 4,
 "nbformat_minor": 2
}
